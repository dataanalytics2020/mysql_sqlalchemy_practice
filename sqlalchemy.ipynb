{
 "cells": [
  {
   "cell_type": "code",
   "execution_count": 7,
   "metadata": {},
   "outputs": [
    {
     "name": "stdout",
     "output_type": "stream",
     "text": [
      "database\n"
     ]
    }
   ],
   "source": [
    "from sqlalchemy import create_engine\n",
    "from sqlalchemy.orm import scoped_session, sessionmaker\n",
    "from sqlalchemy.ext.declarative import declarative_base\n",
    "from sqlalchemy import Column, Integer, Float\n",
    "\n",
    "import pandas as pd\n",
    "\n",
    "import config\n",
    "\n",
    "user = config.DB_USER\n",
    "password = config.PASSWORD\n",
    "host = config.HOST\n",
    "db_name = config.DATABASE\n",
    "print(db_name)\n",
    "# engineの設定\n",
    "engine = create_engine(f'mysql+mysqlconnector://{user}:{password}@{host}/{db_name}')"
   ]
  },
  {
   "cell_type": "code",
   "execution_count": 8,
   "metadata": {},
   "outputs": [],
   "source": [
    "# セッションの作成\n",
    "db_session = scoped_session(\n",
    "  sessionmaker(\n",
    "    autocommit=False,\n",
    "    autoflush=False,\n",
    "    bind=engine\n",
    "  )\n",
    ")\n",
    "\n",
    "# テーブルを作成する\n",
    "Base = declarative_base()\n",
    "Base.query  = db_session.query_property()"
   ]
  },
  {
   "cell_type": "code",
   "execution_count": null,
   "metadata": {},
   "outputs": [],
   "source": []
  },
  {
   "cell_type": "code",
   "execution_count": null,
   "metadata": {},
   "outputs": [],
   "source": [
    "\n",
    "\n",
    "\n",
    "\n",
    "# テーブルを定義する\n",
    "# Baseを継承\n",
    "class AnasloTable(Base):\n",
    "  \"\"\"ワインの情報をもつCSVファイルのクラス\n",
    "\n",
    "  Args:\n",
    "      Base (_type_): DeclarativeBase\n",
    "  \"\"\"\n",
    "  # テーブル名\n",
    "  __tablename__ = 'anaslo'\n",
    "  # カラムの定義\n",
    "  id = Column(Integer, primary_key=True, autoincrement=True)\n",
    "  wine_class = Column(Integer, unique=False)\n",
    "  alcohol = Column(Float, unique=False)\n",
    "  ash = Column(Float, unique=False)\n",
    "  hue = Column(Float, unique=False)\n",
    "  proline = Column(Integer, unique=False)\n",
    "  \n",
    "  def __init__(self, wine_class=None, alcohol=None, ash=None, hue=None, proline=None):\n",
    "    self.wine_class = wine_class\n",
    "    self.alcohol = alcohol\n",
    "    self.ash = ash\n",
    "    self.hue = hue\n",
    "    self.proline = proline\n",
    "\n",
    "Base.metadata.create_all(bind=engine)\n",
    "\n",
    "def read_data():\n",
    "  \"\"\"CSVファイルを読み込み、DBにデータを追加する関数\n",
    "  \"\"\"\n",
    "  wine_df = pd.read_csv('./data/wine_class.csv')\n",
    "\n",
    "  for index, _df in wine_df.iterrows():\n",
    "    row = Wine(wine_class=_df['Class'], alcohol=_df['Alcohol'], ash=_df['Ash'], hue=_df['Hue'], proline=_df['Proline'])\n",
    "    # データを追加する\n",
    "    db_session.add(row)\n",
    "\n",
    "  db_session.commit()\n",
    "\n",
    "read_data()"
   ]
  }
 ],
 "metadata": {
  "kernelspec": {
   "display_name": "base",
   "language": "python",
   "name": "python3"
  },
  "language_info": {
   "codemirror_mode": {
    "name": "ipython",
    "version": 3
   },
   "file_extension": ".py",
   "mimetype": "text/x-python",
   "name": "python",
   "nbconvert_exporter": "python",
   "pygments_lexer": "ipython3",
   "version": "3.9.13"
  },
  "orig_nbformat": 4,
  "vscode": {
   "interpreter": {
    "hash": "79bdfbd60b21d852261c422bdef025442ede09745d134b9cc192931ac8ab85cf"
   }
  }
 },
 "nbformat": 4,
 "nbformat_minor": 2
}
